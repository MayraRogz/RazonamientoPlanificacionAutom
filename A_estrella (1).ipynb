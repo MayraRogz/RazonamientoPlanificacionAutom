{
  "cells": [
    {
      "cell_type": "markdown",
      "id": "d2e16a8e",
      "metadata": {
        "id": "d2e16a8e"
      },
      "source": [
        "<br><br>\n",
        "<p align=\"center\">\n",
        "  <img src=\"https://upload.wikimedia.org/wikipedia/commons/d/df/Logo_UNIR.png\" width=\"260\"/>\n",
        "</p>\n",
        "<br><br><br>\n",
        "<p align=\"center\"><strong>Resolución de un problema mediante búsqueda heurística A</p>\n",
        "\n",
        "<p align=\"center\">Algoritmo A* para mover inventarios con un robot</strong></p>\n",
        "<br><br><br>\n",
        "<p align=\"center\"><strong>Inteligencia Artificial<br></p>\n",
        "\n",
        "<p align=\"center\">Razonamiento y Planificación Automática <br></strong></p>\n",
        "<br><br><br>\n",
        "<p align=\"center\"><strong>Equipo D-1033:</strong><br>   - Mayra Itzel Rodríguez <br>\n",
        "              - César Alberto Tapia Mar <br>\n",
        "              - Ramón Antonio García <br>\n",
        "              - Victor M. Dominguez Garcia <br>\n",
        "              <br><br><br>\n",
        "Fecha: 28 de julio de 2025</p>\n",
        "<br><br><br><br><br>\n",
        "\n",
        "---\n"
      ]
    },
    {
      "cell_type": "markdown",
      "id": "cf3feacb",
      "metadata": {
        "id": "cf3feacb"
      },
      "source": [
        "\n",
        "## 1. **Introducción**\n",
        "\n",
        "El objetivo de esta actividad es implementar la estrategia de búsqueda heurística A* para resolver un problema real propuesto por la empresa Amazon, donde un robot debe mover tres inventarios a posiciones específicas dentro de un almacén representado como una matriz 4x4. El robot puede moverse horizontal y verticalmente, cargar y descargar inventarios, evitando obstáculos.\n",
        "\n",
        "Utilizaremos la distancia de Manhattan como función heurística y un coste uniforme por cada acción. El resultado final será un plan de acciones que lleva al estado objetivo.\n",
        "\n"
      ]
    },
    {
      "metadata": {
        "id": "5f5dc2e3664f3c"
      },
      "cell_type": "markdown",
      "source": [
        "### Enunciado del problema (Parte 1)\n",
        "\n",
        "\"En esta actividad has de utilizar la estrategia de búsqueda heurística A* con el fin de generar un plan que permita al robot de Amazon mover el inventario de un estado inicial a un estado objetivo.\"\n"
      ],
      "id": "5f5dc2e3664f3c"
    },
    {
      "metadata": {
        "id": "453b9ed65dd301d4"
      },
      "cell_type": "markdown",
      "source": [
        "### Enunciado del problema (Parte 2)\n",
        "\n",
        "El estado inicial del problema lo vamos a representar en una matriz de caracteres 4x4 de la siguiente manera\n",
        "\n",
        "```\n",
        "---------------------------------------------\n",
        "|    M1    |     #    |          |    M3    |\n",
        "---------------------------------------------\n",
        "|          |     #    |          |          |\n",
        "---------------------------------------------\n",
        "|    M2    |          |     R    |          |\n",
        "---------------------------------------------\n",
        "|          |          |          |          |\n",
        "---------------------------------------------\n",
        "```\n",
        "\n",
        "Donde:\n",
        "\n",
        "* R: representa el robot. Inicialmente está ubicado en la posición [2,2]\n",
        "* #: representa una pared.\n",
        "* M1, M2 y M3: representan los tres inventarios que el robot debe mover. Y se encuentran ubicadas en las posiciones [0,0], [2,0] y [0,3] respectivamente.\n",
        "\n",
        "El estado objetivo también será una matriz de 4x4 con las características definidas.\n"
      ],
      "id": "453b9ed65dd301d4"
    },
    {
      "cell_type": "markdown",
      "id": "c8f75929",
      "metadata": {
        "id": "c8f75929"
      },
      "source": [
        "\n",
        "## 2. Desarrollo\n",
        "\n",
        "\n"
      ]
    },
    {
      "cell_type": "markdown",
      "source": [
        "La actividad la realizamos mediante iteraciones sucesivas que intentan mejorar la efectividad de la solución mediante entregables cada vez más complejos."
      ],
      "metadata": {
        "id": "C27dtnz-iByj"
      },
      "id": "C27dtnz-iByj"
    },
    {
      "metadata": {
        "id": "641ef485175c5340"
      },
      "cell_type": "markdown",
      "source": [
        "### Primer iteración\n",
        "\n",
        "Siguiendo la parte 1 del enunciado del problema, iniciamos la ideación de la solución a través de la siguiente firma\n",
        "\n",
        "```\n",
        "a_estrella(inicio: Estado_Inicial) -> Estado_Objetivo\n",
        "```\n",
        "\n",
        "Esto es, buscamos una función que tome un estado inicial y como resultado nos entregue un estado objetivo. En este punto aún no sabemos los detalles de dichos estados, pero es suficiente para nuestra primer iteración."
      ],
      "id": "641ef485175c5340"
    },
    {
      "metadata": {
        "id": "69e86c3a8ce708a7"
      },
      "cell_type": "markdown",
      "source": [
        "## Segunda iteración\n",
        "\n",
        "En esta segunda iteración buscaremos definir los parámetros de la clase \"Estado\". Tal como está descrito en la parte 2 del enunciado del problema, el estado deberá almacenar una matriz de 4x4, asi como una lista de posiciones de las paredes y una lista de posiciones de inventarios. Con esto, ahora nuestra segunda vuelta puede verse como\n",
        "\n",
        "```\n",
        "Posicion = TypeVar('Posicion)   #Posicion puede ser de cualquier tipo.\n",
        "\n",
        "clase Estado:\n",
        "    matriz: Lista[ Posicion ]\n",
        "    paredes: Lista[ Posicion ]\n",
        "    inventarios: Lista[ posicion]\n",
        "\n",
        "\n",
        "a_estrella(inicio: Estado) -> fin: Estado\n",
        "```\n",
        "\n",
        "Por el momento lo único que sabemos de la clase Estado es que representará conjuntos de posiciones en la bodega, pero no estamos seguros de cúal será la representación computacional de estas posiciones."
      ],
      "id": "69e86c3a8ce708a7"
    },
    {
      "cell_type": "markdown",
      "source": [
        "## **Tercer iteración. Definicion e implementación de la clase Estado**\n",
        "\n",
        "En esta iteración buscamos definir que significa Estado en el contexto de nuestro problema y los tipos de datos que usaremos para representarlo.\n"
      ],
      "metadata": {
        "id": "wpk3T8l7xkWp"
      },
      "id": "wpk3T8l7xkWp"
    },
    {
      "cell_type": "markdown",
      "source": [
        "### Coordenadas\n",
        "\n",
        "Dado que vamos a trabajar con mapas cuadrados de 4x4, creemos que tiene sentido definir cada nodo como una tupla. De esta manera, una posicion en el mapa se podrá representar por el par (x,y). Además, notamos que {'M1', 'M2', 'M3'} son ids para los inventarios.\n"
      ],
      "metadata": {
        "id": "ebNwrpFv5y2L"
      },
      "id": "ebNwrpFv5y2L"
    },
    {
      "cell_type": "code",
      "source": [
        "from typing import Tuple\n",
        "\n",
        "Posicion = Tuple[int, int]\n",
        "Id = str"
      ],
      "metadata": {
        "id": "z8Jtr8zz6ayC"
      },
      "id": "z8Jtr8zz6ayC",
      "execution_count": null,
      "outputs": []
    },
    {
      "cell_type": "markdown",
      "source": [
        "\n",
        "Habiendo acordado una representación para las posiciones, ahora podemos definir las ubicaciones iniciales y finales de los inventarios como diccionarios que conectan los nombres con sus respectivas posiciones:\n",
        "```\n",
        "Inventarios_Inicio = {M1: (0,0), M2:(0,2), M3:(3,0)}\n",
        "Inventarios_Objetivo = {M1:(3,3), M2:(3,2), M3:(3,1)}\n",
        "```"
      ],
      "metadata": {
        "id": "FKMqE2_G68Cm"
      },
      "id": "FKMqE2_G68Cm"
    },
    {
      "cell_type": "code",
      "source": [
        "from typing import Dict\n",
        "\n",
        "Inventario = Dict[Id, Posicion]\n",
        "\n",
        "inventario_inicial: Inventario = { #Definición de posiciones de inicio para M1, M2 y M3\n",
        "    'M1': (0, 0),\n",
        "    'M2': (2, 0),\n",
        "    'M3': (0, 3)\n",
        "}\n",
        "\n",
        "inventario_objetivo: Inventario = { #Definición de posiciones de objetivo para M1, M2 y M3\n",
        "    'M1': (3, 3),\n",
        "    'M2': (3, 2),\n",
        "    'M3': (3, 1),\n",
        "}"
      ],
      "metadata": {
        "id": "MuzBFNoWrm8z"
      },
      "id": "MuzBFNoWrm8z",
      "execution_count": null,
      "outputs": []
    },
    {
      "cell_type": "markdown",
      "source": [
        "### **Igualdad entre estados**\n",
        "\n",
        "Dado que un grafo solo depende de sus conjuntos A y B de nodos y vértices,también vale la pena que definamos el significado de la igualdad entre estados.\n",
        "\n",
        "Diremos que dos estados E y F son iguales si sus entradas son iguales componente a componente:\n",
        "\n",
        "```\n",
        "E(e1,e2,...,ek) === F(f1,f2,...,fk)\n",
        "si y solo si\n",
        "e1 === f1 y\n",
        "e2 === f2\n",
        "...\n",
        "ek === fk\n",
        "```\n",
        "\n",
        "De esta manera podremos construir la condicion de parada de nuestro algoritmo\n",
        "\n",
        "```\n",
        "Si\n",
        "  Estado_Actual === Estado_Final\n",
        "Entonces\n",
        "  Fin\n",
        "```\n"
      ],
      "metadata": {
        "id": "IWSjqpuk52dX"
      },
      "id": "IWSjqpuk52dX"
    },
    {
      "cell_type": "code",
      "source": [
        "def igualdad_estados(estado1, estado2):\n",
        "    return (estado1.robot == estado2.robot and\n",
        "            estado1.inventarios == estado2.inventarios)\n",
        "\n",
        "\n",
        "class Estado_Test:\n",
        "    def __init__(self, robot, inventarios):\n",
        "        self.robot = robot\n",
        "        self.inventarios = inventarios\n",
        "\n",
        "\n",
        "estado_inicial = Estado_Test((2, 2), { 'M1': (0, 0), 'M2': (2, 0), 'M3': (0, 3)})\n",
        "estado_objetivo = Estado_Test((2, 2),{'M1': (0, 0),'M2': (2, 0),'M3': (0, 3)})\n",
        "\n",
        "\n",
        "assert igualdad_estados(estado_inicial, estado_objetivo) #Correcto"
      ],
      "metadata": {
        "id": "w_RA4f9sDC75"
      },
      "id": "w_RA4f9sDC75",
      "execution_count": null,
      "outputs": []
    },
    {
      "cell_type": "markdown",
      "source": [
        "### **Implementación de la clase Estado**"
      ],
      "metadata": {
        "id": "cZAI2AFy5U3j"
      },
      "id": "cZAI2AFy5U3j"
    },
    {
      "cell_type": "markdown",
      "source": [
        "En este punto ya estamos listos para implementar los métodos que acabamos de definir.\n",
        "\n",
        "Se decidio que la clase debía contener la posicion del robot, la posicion de los paquetes a mover, y también un indicador de si el robot está cargando algun paquete en un momento dado.\n",
        "\n",
        "La igualdad entre los estados se implementó de dos maneras: como el metodo es_objetivo() y como el método __eq__(). El primero es de uso particular y nos dirá si hemos finalizado mientras que el segundo es de uso general, necesario para definir el comportamiento del hash para la clase.  "
      ],
      "metadata": {
        "id": "w2ZC_RSp92Dh"
      },
      "id": "w2ZC_RSp92Dh"
    },
    {
      "cell_type": "code",
      "execution_count": null,
      "id": "643490dc",
      "metadata": {
        "id": "643490dc"
      },
      "outputs": [],
      "source": [
        "\n",
        "class Estado:\n",
        "    def __init__(self, robot: Posicion, inventarios: Inventario, cargando=None):\n",
        "        self.robot = robot  #(fila, columna)\n",
        "        self.inventarios = inventarios.copy()  #{'M1': (fila, col)}\n",
        "        self.cargando = cargando  #None o 'M1', 'M2', 'M3'\n",
        "\n",
        "    def es_objetivo(self):\n",
        "        for key in inventario_objetivo:\n",
        "            if self.inventarios[key] != inventario_objetivo[key]:\n",
        "                return False\n",
        "        if self.cargando is not None: # Añadí esto para comprobar que el inventario está en el suelo\n",
        "            return False\n",
        "\n",
        "        return True\n",
        "\n",
        "    def __eq__(self, other):\n",
        "       return (self.robot == other.robot and\n",
        "                self.inventarios == other.inventarios and\n",
        "                self.cargando == other.cargando)\n",
        "\n",
        "    def __hash__(self):\n",
        "        return hash((self.robot, tuple(sorted(self.inventarios.items())), self.cargando))\n"
      ]
    },
    {
      "cell_type": "markdown",
      "source": [
        "## **Cuarta Iteración. Definición del mapa**\n",
        "\n",
        "En pasos anteriores definimos lo que es una posición en el espacio de movimientos del robot y con ello definimos los conceptos de longitud, estado e igualdad de estados.\n",
        "\n",
        "En esta iteración el objetivo ahora es imponer restricciones, tales como las dimensiones (en el entregable final debe ser de 4x4) y los obstaculos que el robot no puede atravesar (las paredes)."
      ],
      "metadata": {
        "id": "YdCj4en9Qz7K"
      },
      "id": "YdCj4en9Qz7K"
    },
    {
      "cell_type": "markdown",
      "source": [
        "### **Paredes**\n",
        "\n",
        "Ademas del estado, debemos definir el conjunto Pared constituido de las posiciones que el Robot no puede visitar.\n",
        "\n",
        "Las paredes definidas por el problema son las siguientes:\n",
        "```\n",
        "---------------------------------------------\n",
        "|          |     #    |          |          |\n",
        "---------------------------------------------\n",
        "|          |     #    |          |          |\n",
        "---------------------------------------------\n",
        "|          |          |          |          |\n",
        "---------------------------------------------\n",
        "|          |          |          |          |\n",
        "---------------------------------------------\n",
        "```\n",
        "La construcción de nuestro algorítmo de busqueda parte de la idea de que el mapa inicial se puede representar a través de un grafo, de manera que sea posible construir la ruta del Robot como una selección de nodos y aristas.\n",
        "```\n",
        "0     0    0------0\n",
        "|     |    |      |\n",
        "|     |    |      |\n",
        "0     0    0------0\n",
        "|          |      |\n",
        "|          |      |\n",
        "0-----0----0------0\n",
        "|     |    |      |\n",
        "|     |    |      |\n",
        "0-----0----0------0\n",
        "```\n",
        "En esta representación, las paredes son nodos que no están conectados al resto del grafo, y, por lo tanto, no se pueden estudiar como caminos. En este sentido, las paredes siguen siendo listas de posiciones en el mapa."
      ],
      "metadata": {
        "id": "2ZRXeoqxyi8T"
      },
      "id": "2ZRXeoqxyi8T"
    },
    {
      "cell_type": "code",
      "source": [
        "from typing import List\n",
        "\n",
        "Pared: List[Posicion] = [\n",
        "    (0, 1), (1, 1)\n",
        " ] #Nodos no unidos al resto del grafo"
      ],
      "metadata": {
        "id": "YNVFe7rQruyA"
      },
      "id": "YNVFe7rQruyA",
      "execution_count": null,
      "outputs": []
    },
    {
      "cell_type": "markdown",
      "source": [
        "\n",
        "### **Heurística y movimientos**\n",
        "\n",
        "Lo que diferencía al algorítmo A* de otras formas de busqueda como Dijkstra, es la incorporación de una heurística que nos permitirá elegir los caminos mas prometedores.\n"
      ],
      "metadata": {
        "id": "dXzbLXuSNkDN"
      },
      "id": "dXzbLXuSNkDN"
    },
    {
      "cell_type": "markdown",
      "id": "9ad8386e",
      "metadata": {
        "id": "9ad8386e"
      },
      "source": [
        "\n",
        "### Distancia Manhattan\n",
        "\n",
        "La distancia al objetivo genera una buena heurística siempre y cuando sea admisible, esto es, que la distancia calculada no sea mayor al número de pasos para llegar al objetivo. Para el caso de nuestro mapa formado por posiciones discretas y con un robot que solo se puede mover en dos dimensiones, la distancia euclidianda puede resultar incongruente.\n",
        "\n",
        "Definimos la distancia Manhattan segun:\n",
        "\n",
        "```\n",
        "  d(a,b) = d( (x1,y1), (x2,y2) ) = |x2 - x1| + |y2 - y1|\n",
        "```\n",
        "Esta definicion de distancia es util en mapas cuadrados porque es computacionalmente eficiente y además porque forma una heurística admisible."
      ]
    },
    {
      "cell_type": "code",
      "source": [
        "def manhattan(p1: Posicion, p2: Posicion) -> int:\n",
        "    return abs(p1[0] - p2[0]) + abs(p1[1] - p2[1])\n",
        "\n",
        "\n",
        "assert manhattan((0, 0), (1, 1)) == 2 #correcto\n",
        "assert manhattan((0, 0), (0, 0)) == 0 #correcto\n",
        "assert manhattan((0, 0), (2, 3)) == 5 #correcto"
      ],
      "metadata": {
        "id": "Vb5aUbhqr0UT"
      },
      "id": "Vb5aUbhqr0UT",
      "execution_count": null,
      "outputs": []
    },
    {
      "cell_type": "markdown",
      "source": [
        "Usando esta definición podemos calcular la distancia entre el estado inicial y el estado objetivo.\n",
        "\n",
        "```\n",
        "Si M_k es la posición inicial del inventario k y si N_k es la posición final del inventario k\n",
        "d(M1, N1) = d((0,0),(3,3)) = 6\n",
        "d(M2, N2) = d((2,0),(3,2)) = 3\n",
        "d(M3, N3) = d((0,3),(3,1)) = 5\n",
        "distancia total = 6 + 3 + 5 = 14\n",
        "```"
      ],
      "metadata": {
        "id": "oI3mKp2Kc7TI"
      },
      "id": "oI3mKp2Kc7TI"
    },
    {
      "cell_type": "code",
      "source": [
        "def heuristica(e: Estado) -> int:\n",
        "  '''\n",
        "  Toma el estado actual y devuelve la suma de las distancias manhattan de cada inventario a su posicion objetivo\n",
        "  '''\n",
        "  inventario: Inventario = e.inventarios\n",
        "  h = 0\n",
        "  for id, pos in inventario.items():\n",
        "    if pos != inventario_objetivo[id]:\n",
        "      h += manhattan(pos, inventario_objetivo[id])\n",
        "  return h\n",
        "\n",
        "heuristica_test = Estado((2, 2), { 'M1': (0, 0), 'M2': (2, 0), 'M3': (0, 3)})\n",
        "assert heuristica(heuristica_test) == 14 #correcto"
      ],
      "metadata": {
        "id": "QwvW41c1r_pY"
      },
      "id": "QwvW41c1r_pY",
      "execution_count": null,
      "outputs": []
    },
    {
      "cell_type": "markdown",
      "source": [
        "### **Movimientos**"
      ],
      "metadata": {
        "id": "w7d2z1RMH7i5"
      },
      "id": "w7d2z1RMH7i5"
    },
    {
      "cell_type": "markdown",
      "source": [
        "Las funciones límite y pared nos ayudarán a definir si nuestro robot aún se encuentra dentro del mapa o si no está intentando moverse a través de una pared."
      ],
      "metadata": {
        "id": "wsmpWbnMGSXC"
      },
      "id": "wsmpWbnMGSXC"
    },
    {
      "cell_type": "code",
      "source": [
        "def limites(pos: Posicion) -> bool:\n",
        "    return 0 <= pos[0] < 4 and 0 <= pos[1] < 4\n",
        "\n",
        "assert limites((0, 0)) #correcto\n",
        "assert limites((4, 0)) == False #correcto\n",
        "assert limites((0, 4)) == False #correcto"
      ],
      "metadata": {
        "id": "hqOAHxlAJM4b"
      },
      "id": "hqOAHxlAJM4b",
      "execution_count": null,
      "outputs": []
    },
    {
      "cell_type": "code",
      "source": [
        "def pared(pos: Posicion) -> bool:\n",
        "    return pos in Pared\n",
        "\n",
        "assert pared((0, 0)) == False #correcto\n",
        "assert pared((0, 1)) #correcto"
      ],
      "metadata": {
        "id": "TmjlBnSmJfEL"
      },
      "id": "TmjlBnSmJfEL",
      "execution_count": null,
      "outputs": []
    },
    {
      "cell_type": "markdown",
      "source": [
        "La función posición describe las direcciones en las que puede moverse el robot."
      ],
      "metadata": {
        "id": "2ux7U_1UG1Q6"
      },
      "id": "2ux7U_1UG1Q6"
    },
    {
      "cell_type": "code",
      "source": [
        "def movimientos(pos: Posicion) -> Posicion:\n",
        "      movimientos = [(-1, 0), (1, 0), (0, -1), (0, 1)] #arriba, abajo, izq, derecha\n",
        "      nueva_pos = []\n",
        "      for x, y in movimientos:\n",
        "        nx, ny = pos[0] + x, pos[1] + y\n",
        "        if limites((nx, ny)) and not pared((nx, ny)):\n",
        "          nueva_pos.append((nx, ny))\n",
        "      return nueva_pos\n",
        "\n",
        "\n",
        "assert movimientos((0, 0)) == [(1,0)] #correcto\n",
        "assert movimientos((3,3))  == [(2,3), (3,2)] #correcto\n"
      ],
      "metadata": {
        "id": "w6To_HQeR0_t"
      },
      "id": "w6To_HQeR0_t",
      "execution_count": null,
      "outputs": []
    },
    {
      "cell_type": "code",
      "source": [
        "def cargar_inventario(e: Estado):\n",
        "    cargando = e.cargando\n",
        "    if cargando is None:\n",
        "        for k, v in e.inventarios.items():\n",
        "            if v == e.robot:\n",
        "                return Estado(e.robot, e.inventarios, k)\n",
        "    return e # Return the original state if robot is already carrying something.\n",
        "\n",
        "\n",
        "estado_test = Estado((0, 0), { 'M1': (0, 0), 'M2': (2, 0), 'M3': (0, 3)})\n",
        "result = cargar_inventario(estado_test)\n",
        "assert result.robot == (0, 0)\n",
        "assert result.inventarios == { 'M1': (0, 0), 'M2': (2, 0), 'M3': (0, 3)}\n",
        "assert result.cargando == 'M1'\n",
        "assert result.es_objetivo() == False"
      ],
      "metadata": {
        "id": "zzMWU5qAMrHq"
      },
      "id": "zzMWU5qAMrHq",
      "execution_count": null,
      "outputs": []
    },
    {
      "cell_type": "code",
      "execution_count": null,
      "id": "075023b6",
      "metadata": {
        "id": "075023b6"
      },
      "outputs": [],
      "source": [
        "def sucesores(e: Estado):\n",
        "    acciones = []\n",
        "    robot: Posicion = e.robot\n",
        "    inventario_actual: Inventario = e.inventarios\n",
        "    cargando_actual = e.cargando\n",
        "\n",
        "    # Movimiento del Robot (con o sin inventario)\n",
        "    for movimiento_destino in movimientos(robot):\n",
        "        costo_accion = 1\n",
        "\n",
        "        # Caso 1: Robot no está cargando nada (se mueve solo)\n",
        "        if cargando_actual is None:\n",
        "            # El robot puede moverse a cualquier celda válida, incluso si hay un inventario\n",
        "            # en esa celda, porque podría querer cargarlo.\n",
        "            nuevo_estado = Estado(movimiento_destino, inventario_actual, None)\n",
        "            acciones.append((f\"Mover R a {movimiento_destino[0], movimiento_destino[1]}\", nuevo_estado, costo_accion))\n",
        "\n",
        "        # Caso 2: Robot está cargando un inventario (se mueve con él)\n",
        "        else:\n",
        "            inventario_cargado_nombre = cargando_actual\n",
        "\n",
        "            # VERIFICACIÓN DE COLISIÓN AL MOVER INVENTARIO CARGADO\n",
        "            # La nueva posición (movimiento_destino) no debe estar ocupada por OTRO inventario.\n",
        "            colision_con_otro_inv = False\n",
        "            for otro_id, otra_pos in inventario_actual.items():\n",
        "                if otro_id != inventario_cargado_nombre and otra_pos == movimiento_destino:\n",
        "                    colision_con_otro_inv = True\n",
        "                    break # Colisión detectada, este movimiento no es posible\n",
        "\n",
        "            if not colision_con_otro_inv: # Solo se procede si no hay colisión\n",
        "                nuevos_inventarios_mov = inventario_actual.copy()\n",
        "                nuevos_inventarios_mov[inventario_cargado_nombre] = movimiento_destino # El inventario se mueve con el robot\n",
        "                nuevo_estado_con_inv = Estado(movimiento_destino, nuevos_inventarios_mov, inventario_cargado_nombre)\n",
        "                acciones.append((f\"Mover {inventario_cargado_nombre} a {movimiento_destino[0], movimiento_destino[1]}\", nuevo_estado_con_inv, costo_accion))\n",
        "\n",
        "    # Cargar Inventario\n",
        "    if cargando_actual is None: # Solo puede cargar si no está cargando ya\n",
        "        estado_despues_cargar = cargar_inventario(e)\n",
        "        if estado_despues_cargar is not e: # Si realmente se cargó algo\n",
        "            acciones.append((f\"Cargar R: {estado_despues_cargar.cargando}\", estado_despues_cargar, 0))\n",
        "\n",
        "    # Descargar Inventario\n",
        "    else: # Si el robot está cargando algo\n",
        "        inventario_a_soltar_nombre = cargando_actual\n",
        "        posicion_donde_dejar = robot # Se deja en la posición actual del robot\n",
        "\n",
        "        # VERIFICACIÓN DE COLISIÓN AL DESCARGAR INVENTARIO\n",
        "        # No se puede dejar un inventario en una celda ya ocupada por OTRO inventario.\n",
        "        colision_al_dejar = False\n",
        "        for otro_id, otra_pos in inventario_actual.items():\n",
        "            if otro_id != inventario_a_soltar_nombre and otra_pos == posicion_donde_dejar:\n",
        "                colision_al_dejar = True\n",
        "                break # Colisión detectada, no se puede dejar aquí\n",
        "\n",
        "        if not colision_al_dejar: # Solo se procede si no hay colisión\n",
        "            nuevos_inventarios_descarga = inventario_actual.copy()\n",
        "            nuevos_inventarios_descarga[inventario_a_soltar_nombre] = posicion_donde_dejar # El inventario se coloca en la posición del robot\n",
        "            nuevo_estado_descargado = Estado(posicion_donde_dejar, nuevos_inventarios_descarga, None)\n",
        "            acciones.append((f\"Descargar R: {inventario_a_soltar_nombre}\", nuevo_estado_descargado, 0))\n",
        "\n",
        "    return acciones\n"
      ]
    },
    {
      "cell_type": "markdown",
      "id": "6f86e500",
      "metadata": {
        "id": "6f86e500"
      },
      "source": [
        "\n",
        "## 4. Implementación del algoritmo A*\n"
      ]
    },
    {
      "cell_type": "markdown",
      "source": [
        "A*  es un algoritmo eficiente para encontrar el camino más corto dentro de un grafo, utilizando la exploración de nodos mediante una función f(n). Esta función combina el costo de llegar moverse hacia un nodo con una estimación del costo faltante para llegar al objetivo. Gracias a esto dar prioridad a la exploración de caminos prometedores. La fórmula general es:\n",
        "\n",
        "```\n",
        "f(n)=g(n)+h(n)\n",
        "```\n",
        "donde\n",
        "- g(n): Representa el costo acumulado desde el estado inicial hasta el nodo actual n. Según la sección de tareas pedidas, cada acción del robot tiene un costo de 1 unidad. Por lo tanto, g(n) representa cuantos pasos o acciones hay que ejecutar para mover al robot del estado n hasta el estado n el estado inicial.\n",
        "\n",
        "- h(n) Es una estimación del costo de mover al robot desde el nodo actual n hasta el nodo objetivo. Para implementar esta función se utilizó la Distancia Manhattan. Para un estado dado, h(n) se calcula como la suma de las distancias Manhattan de cada inventario (M1, M2, M3) desde su posición actual en el estado n hasta su posición objetivo final. Esta heurística es admisible porque nunca sobreestima el costo real para alcanzar el objetivo.\n",
        "\n",
        "Una vez calculada una prioridad f para una elemento de la frontera, utilizamos una cola de prioridad, que en python devuelve el elemento más pequeño de un conjunto. Es así como el robot va siguiendo el camino que genera el estimado mas pequeño.\n"
      ],
      "metadata": {
        "id": "YXLGjZqCpXq7"
      },
      "id": "YXLGjZqCpXq7"
    },
    {
      "cell_type": "code",
      "execution_count": null,
      "id": "cbc1d095",
      "metadata": {
        "id": "cbc1d095"
      },
      "outputs": [],
      "source": [
        "import heapq\n",
        "\n",
        "from itertools import count\n",
        "contador = count()\n",
        "\n",
        "def a_estrella(inicial: Estado):\n",
        "    limite = []\n",
        "    heapq.heappush(limite, (heuristica(inicial), next(contador), 0, inicial, []))\n",
        "    visitados = {estado_inicial:0}\n",
        "\n",
        "    while limite:\n",
        "        _, _, costo_acumulado, estado, plan = heapq.heappop(limite)\n",
        "\n",
        "        if estado.es_objetivo():\n",
        "            return plan\n",
        "\n",
        "        for accion, sucesor, costo_accion in sucesores(estado):\n",
        "            if sucesor not in visitados or costo_acumulado + costo_accion < visitados[sucesor]:\n",
        "                visitados[sucesor] = costo_acumulado + costo_accion\n",
        "                costo_acumulado += costo_accion\n",
        "                costo_accion = costo_acumulado + heuristica(sucesor)\n",
        "                heapq.heappush(limite, (costo_accion, next(contador), costo_acumulado, sucesor, plan + [accion]))\n",
        "\n",
        "    return None\n"
      ]
    },
    {
      "cell_type": "markdown",
      "id": "8951cb5d",
      "metadata": {
        "id": "8951cb5d"
      },
      "source": [
        "\n",
        "## 5. Ejecución y resultado\n",
        "\n",
        "\n",
        "Presentamos una serie de pruebas que muestran las acciones del robot, empezando por el caso trivial e incrementando su complejidad hasta probar el objetivo de la tarea."
      ]
    },
    {
      "cell_type": "code",
      "source": [
        "def print_plan(plan):\n",
        "    pasos_movimiento = []\n",
        "    if plan is None:\n",
        "        print(\"No se encontró un plan.\")\n",
        "        return\n",
        "\n",
        "    print(\"El plan es:\\n\")\n",
        "    for i, paso in enumerate(plan):\n",
        "        print(f\"{i+1}. {paso}\")\n",
        "        if \"Mover R a\" in paso or \"Mover M\" in paso:\n",
        "            pasos_movimiento.append(paso)\n",
        "\n",
        "    print(f\"\\nEl total de pasos de movimiento es: {len(pasos_movimiento)}\")\n",
        "    print(f\"El total de acciones es: {len(plan)}\")\n"
      ],
      "metadata": {
        "id": "3morYZMj5P3h"
      },
      "id": "3morYZMj5P3h",
      "execution_count": null,
      "outputs": []
    },
    {
      "metadata": {
        "id": "1KseK1Qklgrn"
      },
      "cell_type": "markdown",
      "source": [
        "## Test 1\n",
        "\n",
        "El estado inicial es identico al estado final. La distancia recorrida deberia ser cero, en tanto que los inventarios ya estan en su lugar.\n",
        "\n",
        "```\n",
        "---------------------------------------------\n",
        "|          |          |          |          |\n",
        "---------------------------------------------\n",
        "|          |     #    |          |          |\n",
        "---------------------------------------------\n",
        "|          |     #    |     R    |          |\n",
        "---------------------------------------------\n",
        "|          |     M3   |     M2   |     M1   |\n",
        "---------------------------------------------\n",
        "\n",
        "Distancia al objetivo = 0\n",
        "```"
      ],
      "id": "1KseK1Qklgrn"
    },
    {
      "cell_type": "code",
      "source": [
        "posicion_robot = (2, 2)\n",
        "inventarios = {\n",
        "    'M1': (3, 3),\n",
        "    'M2': (3, 2),\n",
        "    'M3': (3, 1)\n",
        "}\n",
        "estado_inicial = Estado(\n",
        "    posicion_robot,\n",
        "    inventarios,\n",
        "    cargando=None\n",
        ")\n",
        "plan = a_estrella(estado_inicial)\n",
        "print_plan(plan)"
      ],
      "metadata": {
        "colab": {
          "base_uri": "https://localhost:8080/"
        },
        "id": "3jChDruyvmlh",
        "outputId": "07f15c6c-72ff-44db-b401-610dc2699c37"
      },
      "id": "3jChDruyvmlh",
      "execution_count": null,
      "outputs": [
        {
          "output_type": "stream",
          "name": "stdout",
          "text": [
            "El plan es:\n",
            "\n",
            "\n",
            "El total de pasos de movimiento es: 0\n",
            "El total de acciones es: 0\n"
          ]
        }
      ]
    },
    {
      "cell_type": "markdown",
      "source": [
        "## Test 2\n",
        "\n",
        "Hay un único inventario fuera de lugar. La distancia al objetivo debería ser de dos pasos, mientras que el número de acciones debería ser 6.\n",
        "\n",
        "```\n",
        "---------------------------------------------\n",
        "|          |          |          |          |\n",
        "---------------------------------------------\n",
        "|          |     #    |          |          |\n",
        "---------------------------------------------\n",
        "|          |     #    |     R    |    M1    |\n",
        "---------------------------------------------\n",
        "|          |     M3   |     M2   |          |\n",
        "---------------------------------------------\n",
        "\n",
        "Distancia al objetivo = 2\n",
        "```"
      ],
      "metadata": {
        "id": "nRUHlwatwnLs"
      },
      "id": "nRUHlwatwnLs"
    },
    {
      "cell_type": "code",
      "source": [
        "posicion_robot = (2, 2)\n",
        "inventarios = {\n",
        "    'M1': (2, 3),\n",
        "    'M2': (3, 2),\n",
        "    'M3': (3, 1)\n",
        "}\n",
        "\n",
        "estado_inicial = Estado(\n",
        "    posicion_robot,\n",
        "    inventarios,\n",
        "    cargando=None\n",
        ")\n",
        "\n",
        "plan= a_estrella(estado_inicial)\n",
        "print_plan(plan)"
      ],
      "metadata": {
        "colab": {
          "base_uri": "https://localhost:8080/"
        },
        "id": "QrukZknnw_Gw",
        "outputId": "f474c6f9-663a-40d0-c1b5-37038785663a"
      },
      "id": "QrukZknnw_Gw",
      "execution_count": null,
      "outputs": [
        {
          "output_type": "stream",
          "name": "stdout",
          "text": [
            "El plan es:\n",
            "\n",
            "1. Mover R a (2, 3)\n",
            "2. Cargar R: M1\n",
            "3. Mover M1 a (3, 3)\n",
            "4. Descargar R: M1\n",
            "\n",
            "El total de pasos de movimiento es: 2\n",
            "El total de acciones es: 4\n"
          ]
        }
      ]
    },
    {
      "cell_type": "markdown",
      "source": [
        "## Test 3\n",
        "\n",
        "Nuevamente hay un inventario fuera de lugar pero esta vez hay varios caminos posibles.\n",
        "```\n",
        "---------------------------------------------\n",
        "|          |          |          |          |\n",
        "---------------------------------------------\n",
        "|          |     #    |          |     R    |\n",
        "---------------------------------------------\n",
        "|          |     #    |          |          |\n",
        "---------------------------------------------\n",
        "|    M3    |          |     M2   |    M1    |\n",
        "---------------------------------------------\n",
        "\n",
        "Distancia correcta al objetivo = 6\n",
        "```"
      ],
      "metadata": {
        "id": "bq-_K-dYA_0X"
      },
      "id": "bq-_K-dYA_0X"
    },
    {
      "cell_type": "code",
      "source": [
        "posicion_robot = (1, 3)\n",
        "inventarios = {\n",
        "    'M1': (3, 3),\n",
        "    'M2': (3, 2),\n",
        "    'M3': (3, 0)\n",
        "}\n",
        "\n",
        "estado_inicial = Estado(\n",
        "    posicion_robot,\n",
        "    inventarios,\n",
        "    cargando=None\n",
        ")\n",
        "\n",
        "plan = a_estrella(estado_inicial)\n",
        "\n",
        "print_plan(plan)"
      ],
      "metadata": {
        "colab": {
          "base_uri": "https://localhost:8080/"
        },
        "outputId": "e2f7ce8d-79b7-4911-c3ba-bb82938a0f8e",
        "id": "9MYmTxOW3v4m"
      },
      "execution_count": null,
      "outputs": [
        {
          "output_type": "stream",
          "name": "stdout",
          "text": [
            "El plan es:\n",
            "\n",
            "1. Mover R a (2, 3)\n",
            "2. Mover R a (3, 3)\n",
            "3. Mover R a (3, 2)\n",
            "4. Mover R a (3, 1)\n",
            "5. Mover R a (3, 0)\n",
            "6. Cargar R: M3\n",
            "7. Mover M3 a (3, 1)\n",
            "8. Descargar R: M3\n",
            "\n",
            "El total de pasos de movimiento es: 6\n",
            "El total de acciones es: 8\n"
          ]
        }
      ],
      "id": "9MYmTxOW3v4m"
    },
    {
      "cell_type": "markdown",
      "source": [
        "## Test 4. Estado Objetivo"
      ],
      "metadata": {
        "id": "nbvQrMx4BEnL"
      },
      "id": "nbvQrMx4BEnL"
    },
    {
      "cell_type": "code",
      "execution_count": null,
      "id": "f851355d",
      "metadata": {
        "id": "f851355d",
        "colab": {
          "base_uri": "https://localhost:8080/"
        },
        "outputId": "af147841-42ae-4188-d601-347bbe1ed37f"
      },
      "outputs": [
        {
          "output_type": "stream",
          "name": "stdout",
          "text": [
            "El plan es:\n",
            "\n",
            "1. Mover R a (2, 1)\n",
            "2. Mover R a (2, 0)\n",
            "3. Cargar R: M2\n",
            "4. Mover M2 a (3, 0)\n",
            "5. Mover M2 a (3, 1)\n",
            "6. Mover M2 a (3, 2)\n",
            "7. Descargar R: M2\n",
            "8. Mover R a (2, 2)\n",
            "9. Mover R a (2, 1)\n",
            "10. Mover R a (2, 0)\n",
            "11. Mover R a (1, 0)\n",
            "12. Mover R a (0, 0)\n",
            "13. Cargar R: M1\n",
            "14. Mover M1 a (1, 0)\n",
            "15. Mover M1 a (2, 0)\n",
            "16. Mover M1 a (2, 1)\n",
            "17. Mover M1 a (2, 2)\n",
            "18. Mover M1 a (2, 3)\n",
            "19. Mover M1 a (3, 3)\n",
            "20. Descargar R: M1\n",
            "21. Mover R a (2, 3)\n",
            "22. Mover R a (1, 3)\n",
            "23. Mover R a (0, 3)\n",
            "24. Cargar R: M3\n",
            "25. Mover M3 a (1, 3)\n",
            "26. Mover M3 a (2, 3)\n",
            "27. Mover M3 a (2, 2)\n",
            "28. Mover M3 a (2, 1)\n",
            "29. Mover M3 a (3, 1)\n",
            "30. Descargar R: M3\n",
            "\n",
            "El total de pasos de movimiento es: 24\n",
            "El total de acciones es: 30\n"
          ]
        }
      ],
      "source": [
        "posicion_robot = (2, 2)\n",
        "inventarios = {\n",
        "    'M1': (0, 0),\n",
        "    'M2': (2, 0),\n",
        "    'M3': (0, 3)\n",
        "}\n",
        "\n",
        "estado_inicial = Estado(\n",
        "    posicion_robot,\n",
        "    inventarios,\n",
        "    cargando=None\n",
        ")\n",
        "\n",
        "plan = a_estrella(estado_inicial)\n",
        "print_plan(plan)"
      ]
    },
    {
      "cell_type": "markdown",
      "source": [
        "## 6. Conclusiones y dificultades encontradas\n",
        "\n",
        "La implementación del algoritmo de búsqueda heurística A* permitió resolver de manera eficiente el problema de planificación de movimientos para un robot en un entorno con restricciones, simulando un caso práctico como el de un almacén automatizado de Amazon. A través de la representación del espacio de estados en una matriz 4x4, se pudo modelar tanto la movilidad del robot como las acciones de carga y descarga de inventario, considerando también los obstáculos fijos.\n",
        "\n",
        "Algunas de las dificultades que encontramos fueron el representar los estados con precisión para detectar repetidos, especialmente por la estructura mutable de los diccionarios, ajustar la heurística para garantizar eficiencia y completitud sin sobreestimar.\n",
        "Otra dificultad inicial residió en la necesidad de generalizar y comparctar la función *sucesores*. La clave para resolver esto fue la reorganización de la lógica para manejar de mejor manera los mivimientos del robot (solo o con inventario) y las acciones del mismo (cargar o dejar), lo que resultó en un código más legible y eficiente.\n",
        "Otro reto importante fue la gestión de las colisiones de inventarios. Asegurar que el robot no intentara mover o dejar el inventario en una celda donde ya existiera uno. La inclusión de verificaciones de colisión garantizó que solo se generaran estados válidos.\n",
        "Una dificultad sutil, pero determinante para la selección de la mejor ruta fue la interpretación de los costos de las acciones. Inicialmente, el algoritmo asumía un costo uniforme de 1 por cada acción. lo que nos llevó a una solución que, aunque eran óptimos bajo esa métrica, no reflejaban la estrategia más eficiente e intuitiva. Esto nos llevó a introducir costos variables: Asignando un costo de 1 a los movimientos y un costo de 0 a las acciones de cargar y dejar.\n",
        "Finalmente, la definición del estado objetivo también presentó un matiz importante para obtener un resultado más completo y satisfactorio. En un inicio, el algoritmo solo verificaba las posiciones finales de los inventarios, lo que permitía que el robot *terminara* la busqueda aun cargando un inventario en la posición final. Aunque esto no era incorrecto, no se sentía como si realmente se hubiera terminado el ejercicio. La adición de la condición *self.cargado is None* en *es_objetivo()*  nos permitió darle un cierre convincente al ejercicio.\n",
        "\n"
      ],
      "metadata": {
        "id": "-IQqnPW-fLLs"
      },
      "id": "-IQqnPW-fLLs"
    },
    {
      "cell_type": "markdown",
      "source": [
        "## 7. Referencias\n",
        "\n",
        "[1] Aplicación de heurísticas en caminos óptimos en gridworlds\n",
        "Felner, A., Stern, R., Netanyahu, N. S., Kraus, S., & Holte, R. C. (2011).\n",
        "Additive Pattern Database Heuristics.<br>\n",
        "[2] Journal of Artificial Intelligence Research, 22, 279–318.\n",
        "Analiza múltiples heurísticas, incluyendo Manhattan, y su efecto en el rendimiento de A* en entornos de tipo cuadrícula.<br>\n",
        "[3] Libro sobre algoritmos de planificación\n",
        "LaValle, S. M. (2006).<br>\n",
        "Planning Algorithms. Cambridge University Press.\n",
        "Disponible online: http://planning.cs.uiuc.edu/\n",
        "[4] Python Software Foundation. (2024). Python documentation. https://docs.python.org/3/<br>\n",
        "[5] Russell, S., & Norvig, P. (2010). *Artificial Intelligence: A Modern Approach* (3rd ed.). Prentice Hall.<br>\n",
        "[6] Universidad Internacional de La Rioja (UNIR). (2024). *Algoritmos de búsqueda informada*. Aula virtual.\n",
        "\n",
        "\n"
      ],
      "metadata": {
        "id": "zcwByzwRhSmc"
      },
      "id": "zcwByzwRhSmc"
    }
  ],
  "metadata": {
    "colab": {
      "provenance": []
    },
    "language_info": {
      "name": "python"
    },
    "kernelspec": {
      "name": "python3",
      "display_name": "Python 3"
    }
  },
  "nbformat": 4,
  "nbformat_minor": 5
}